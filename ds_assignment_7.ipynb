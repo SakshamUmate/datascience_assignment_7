{
 "cells": [
  {
   "cell_type": "markdown",
   "id": "63671034-57a8-4450-b090-43aa41b22b02",
   "metadata": {},
   "source": [
    "Q1. What is Abstraction in OOps? Explain with an example."
   ]
  },
  {
   "cell_type": "markdown",
   "id": "7d35d00d-5375-447f-b362-866ffa2eba0c",
   "metadata": {},
   "source": [
    "Abstraction in object-oriented programming (OOP) is a fundamental concept that involves simplifying complex systems by modeling classes based on the essential properties and behaviors they share. It allows you to focus on the relevant aspects of an object while ignoring the irrelevant details. In simpler terms, abstraction is the process of hiding the implementation details and showing only the essential features of an object."
   ]
  },
  {
   "cell_type": "code",
   "execution_count": 1,
   "id": "c2c5c2cf-6f01-49ea-a2ef-6a642efa6622",
   "metadata": {},
   "outputs": [
    {
     "name": "stdout",
     "output_type": "stream",
     "text": [
      "10000000$\n",
      "Steve jobs\n",
      "1234567890\n",
      "Steve jobs haveing Saving account in SBI\n"
     ]
    }
   ],
   "source": [
    "#Ans:\n",
    "import abc\n",
    "class bank :\n",
    "    @abc.abstractmethod\n",
    "    def account_type(self):\n",
    "        pass\n",
    "    @abc.abstractmethod\n",
    "    def account_no(self):\n",
    "        pass\n",
    "    @abc.abstractmethod\n",
    "    def account_holder_name(self):\n",
    "        pass\n",
    "    @abc.abstractmethod\n",
    "    def account_balance(self):\n",
    "        pass\n",
    "\n",
    "class SBI(bank):\n",
    "    def __init__ (self,name):\n",
    "        self.name=name\n",
    "    def account_type(self):\n",
    "        print(f'{self.name} haveing Saving account in SBI')\n",
    "    def account_no(self):    \n",
    "        print(\"1234567890\")\n",
    "    def account_holder_name(self):   \n",
    "        print(self.name)\n",
    "    def account_balance(self):  \n",
    "        print(\"10000000$\")\n",
    "abc=SBI('Steve jobs')\n",
    "abc.account_balance()\n",
    "abc.account_holder_name()\n",
    "abc.account_no()\n",
    "abc.account_type()        "
   ]
  },
  {
   "cell_type": "markdown",
   "id": "689958d8-2477-4d59-b342-24cf3823b94e",
   "metadata": {},
   "source": [
    "Q2. Differentiate between Abstraction and Encapsulation. Explain with an example."
   ]
  },
  {
   "cell_type": "markdown",
   "id": "999dcab4-a1cd-412d-8368-d78036d31417",
   "metadata": {},
   "source": [
    "Abstraction and encapsulation are two important concepts in object-oriented programming (OOP) that contribute to the design and implementation of robust and maintainable software. Let's differentiate between them and provide examples for better understanding:\r\n",
    "\r\n",
    "Abstraction:\r\n",
    "\r\n",
    "Definition: Abstraction is the process of simplifying complex systems by modeling classes based on essential properties and behaviors while hiding unnecessary details.\r\n",
    "Purpose: It focuses on the essential characteristics of an object, ignoring the non-essential details. It helps in managing complexity and understanding a system at a higher lesystem\n",
    "Encapsulation:\r\n",
    "\r\n",
    "Definition: Encapsulation is the bundling of data (attributes) and the methods (functions) that operate on the data into a single unit or class. It involves restricting access to some of an object's components and only exposing what is necessary.\r\n",
    "Purpose: It helps in achieving information hiding, preventing external code from directly accessing an object's internal state. Encapsulation also allows the object to control its state and behavior, leading to more robust and maintainabass., etc."
   ]
  },
  {
   "cell_type": "code",
   "execution_count": 3,
   "id": "20db4bf1-326a-427d-9a04-28782b82d967",
   "metadata": {},
   "outputs": [],
   "source": [
    "import abc \n",
    "class Kotak:\n",
    "    def __init__(self, name, account_type, account_no, account_balance):\n",
    "        self.name = name\n",
    "        self.account_type = account_type\n",
    "        self.__account_no = account_no\n",
    "        self.__account_balance = account_balance\n",
    "        print(f'Your Account is Successfully Created')\n",
    "    @abc.abstractmethod\n",
    "    def get_account_details(self):\n",
    "        pass\n",
    "\n",
    "    "
   ]
  },
  {
   "cell_type": "code",
   "execution_count": 1,
   "id": "88f53edd-61b4-4545-8a7b-4892b9711319",
   "metadata": {
    "scrolled": true
   },
   "outputs": [
    {
     "name": "stdout",
     "output_type": "stream",
     "text": [
      "Your Account is Successfully Created\n",
      "Steve jobs\n",
      "Saving account\n",
      "Your account_number is :123456789\n",
      "Your Bank Balance is :1000000\n"
     ]
    }
   ],
   "source": [
    "#encapculation \n",
    "class Kotak():\n",
    "    def __init__ (self,name,account_type,account_no,account_balance):\n",
    "        self.name=name\n",
    "        self.account_type=account_type\n",
    "        self.__account_no=account_no\n",
    "        self.__account_balance=account_balance\n",
    "        print(f'Your Account is Successfully Created')\n",
    "    def account_details(self):\n",
    "        print(f'{self.name}\\n{self.account_type}')\n",
    "    def get_account_no(self):    \n",
    "        print(f'Your account_number is :{self._Kotak__account_no}')\n",
    "    def get_account_balance(self):  \n",
    "        print(f'Your Bank Balance is :{self._Kotak__account_balance}')\n",
    "abc=Kotak('Steve jobs','Saving account',123456789,1000000)\n",
    "abc.account_details()\n",
    "abc.get_account_no()\n",
    "abc.get_account_balance()"
   ]
  },
  {
   "cell_type": "markdown",
   "id": "1e7ad80d-0f20-44a3-a81c-b77a80bc80ca",
   "metadata": {},
   "source": [
    "Q3. What is abc module in python? Why is it used?"
   ]
  },
  {
   "cell_type": "markdown",
   "id": "85a1abe8-66f9-4b90-a4fd-703cf4569a35",
   "metadata": {},
   "source": [
    "The abc module in Python stands for \"Abstract Base Classes.\" It provides a mechanism for defining abstract base classes in Python. An abstract base class is a class that cannot be instantiated and is meant to be subclassed by other classes. Abstract base classes often define a common interface or set of methods that must be implemented by their concrete subclasses.\r\n",
    "\r\n",
    "Key components of the abc module include the ABC class and the abstractmethod decorator. Here's a brief explanation of these components:\r\n",
    "\r\n",
    "ABC (Abstract Base Class):\r\n",
    "\r\n",
    "The ABC class, which stands for Abstract Base Class, is provided by the abc module.\r\n",
    "Subclassing ABC is the first step in creating an abstract base class.\r\n",
    "Instances of ABC cannot be created, and it is meant to be subclassed by other classes that will implement its abstract methods.\r\n",
    "abstractmethod Decorator:\r\n",
    "\r\n",
    "The abstractmethod decorator is used to declare abstract methods within an abstract base class.\r\n",
    "Abstract methods are methods that must be implemented by concrete (non-abstract) subclasses.\r\n",
    "If a subclass fails to implement an abstract method, attempting to instantiate the subclass will result in a TypeError."
   ]
  },
  {
   "cell_type": "code",
   "execution_count": 37,
   "id": "fbda6860-8b14-41ac-80bf-290113610d5f",
   "metadata": {},
   "outputs": [
    {
     "name": "stdout",
     "output_type": "stream",
     "text": [
      "Circle Area: 78.5\n",
      "Circle Perimeter: 31.400000000000002\n",
      "Square Area: 16\n",
      "Square Perimeter: 16\n"
     ]
    }
   ],
   "source": [
    "from abc import ABC, abstractmethod\n",
    "\n",
    "# Define an abstract base class (ABC)\n",
    "class Shape(ABC):\n",
    "    @abstractmethod\n",
    "    def area(self):\n",
    "        pass\n",
    "\n",
    "    @abstractmethod\n",
    "    def perimeter(self):\n",
    "        pass\n",
    "\n",
    "# Concrete subclass of Shape\n",
    "class Circle(Shape):\n",
    "    def __init__(self, radius):\n",
    "        self.radius = radius\n",
    "\n",
    "    def area(self):\n",
    "        return 3.14 * self.radius ** 2\n",
    "\n",
    "    def perimeter(self):\n",
    "        return 2 * 3.14 * self.radius\n",
    "\n",
    "# Concrete subclass of Shape\n",
    "class Square(Shape):\n",
    "    def __init__(self, side):\n",
    "        self.side = side\n",
    "\n",
    "    def area(self):\n",
    "        return self.side ** 2\n",
    "\n",
    "    def perimeter(self):\n",
    "        return 4 * self.side\n",
    "\n",
    "# Attempting to create an instance of the abstract base class (Shape) results in an error.\n",
    "# shape = Shape()  # This would raise a TypeError\n",
    "\n",
    "# Creating instances of concrete subclasses\n",
    "circle = Circle(radius=5)\n",
    "square = Square(side=4)\n",
    "\n",
    "# Using the implemented methods\n",
    "print(\"Circle Area:\", circle.area())\n",
    "print(\"Circle Perimeter:\", circle.perimeter())\n",
    "\n",
    "print(\"Square Area:\", square.area())\n",
    "print(\"Square Perimeter:\", square.perimeter())\n"
   ]
  },
  {
   "cell_type": "markdown",
   "id": "e98316b8-29b5-4c8d-a7b3-ba6d41b673ad",
   "metadata": {},
   "source": [
    "Q4. How can we achieve data abstraction?"
   ]
  },
  {
   "cell_type": "markdown",
   "id": "ffdb5ae8-5d1d-4700-8098-be515ed9fabb",
   "metadata": {},
   "source": [
    "Data abstraction is a concept in computer science and programming that involves presenting only the essential features of an object while hiding the unnecessary details. In object-oriented programming (OOP), data abstraction is often achieved through the use of abstract classes and interfaces. Here are some key techniques to achieve data abstraction in Python:\r\n",
    "\r\n",
    "Abstract Classes and Methods:\r\n",
    "\r\n",
    "Define an abstract base class using the ABC (Abstract Base Class) module.\r\n",
    "Declare abstract methods within the abstract base class using the @abstractmethod decorator.\r\n",
    "Subclasses must provide concrete implementations for the abstract me\n",
    "Encapsulation:\r\n",
    "\r\n",
    "Use encapsulation to hide the internal details of a class and expose only what is necessary.\r\n",
    "Encapsulate attributes by making them private or protected, and provide getter and setter methods for controlled acce\n",
    "Property Decorators:\r\n",
    "\r\n",
    "Use property decorators to create getter and setter methods for class attributes.\r\n",
    "This allows you to control access to attributes while providing a clean and concise synt\n",
    "Interfaces:\r\n",
    "\r\n",
    "Although Python does not have a formal interface keyword, you can use abstract classes or ABCs to define interfaces.\r\n",
    "An interface declares a set of methods that must be implemented by classes claiming to adhere to the interfa\n",
    "ce.ax.ss.thods."
   ]
  },
  {
   "cell_type": "code",
   "execution_count": 40,
   "id": "e7c8203f-5969-4b36-a1ed-f41f79ed2bd2",
   "metadata": {},
   "outputs": [],
   "source": [
    "# abstraction\n",
    "from abc import ABC, abstractmethod\n",
    "\n",
    "class Shape(ABC):\n",
    "    @abstractmethod\n",
    "    def area(self):\n",
    "        pass\n",
    "\n",
    "    @abstractmethod\n",
    "    def perimeter(self):\n",
    "        pass\n"
   ]
  },
  {
   "cell_type": "code",
   "execution_count": 4,
   "id": "33dec532-be45-4e2a-8842-90b1aff46bd2",
   "metadata": {},
   "outputs": [],
   "source": [
    "#encapsulation \n",
    "class Student:\n",
    "    def __init__(self, name, age):\n",
    "        self.__name = name  # Protected attribute\n",
    "        self.__age = age\n",
    "\n",
    "    def get_name(self):\n",
    "        return self._name\n",
    "\n",
    "    def set_name(self, name):\n",
    "        self._name = name\n"
   ]
  },
  {
   "cell_type": "code",
   "execution_count": 14,
   "id": "bbe594f4-4b13-4a9f-a9f2-990eeb9da535",
   "metadata": {},
   "outputs": [],
   "source": [
    "class Circle:\n",
    "    def __init__(self, radius):\n",
    "        self._radius = radius  # Protected attribute\n",
    "\n",
    "    @property\n",
    "    def radius(self):\n",
    "        return self._radius\n",
    "\n",
    "    @radius.setter\n",
    "    def radius(self, value):\n",
    "        if value > 0:\n",
    "            self._radius = value\n",
    "        else:\n",
    "            raise ValueError(\"Radius must be positive.\")\n"
   ]
  },
  {
   "cell_type": "code",
   "execution_count": 43,
   "id": "0ee7f6af-d1c9-4248-97ee-45f8a9ee5ec6",
   "metadata": {},
   "outputs": [],
   "source": [
    "from abc import ABC, abstractmethod\n",
    "\n",
    "class Drawable(ABC):\n",
    "    @abstractmethod\n",
    "    def draw(self):\n",
    "        pass\n",
    "\n",
    "    @abstractmethod\n",
    "    def resize(self):\n",
    "        pass\n",
    "\n",
    "class Circle(Drawable):\n",
    "    def draw(self):\n",
    "        print(\"Drawing a circle\")\n",
    "\n",
    "    def resize(self):\n",
    "        print(\"Resizing the circle\")\n"
   ]
  },
  {
   "cell_type": "markdown",
   "id": "0c09599b-de74-48a5-a367-cbfee06ce333",
   "metadata": {},
   "source": [
    "Q5. Can we create an instance of an abstract class? Explain your answer."
   ]
  },
  {
   "cell_type": "markdown",
   "id": "9ccc4641-0f0c-41e7-93db-29f2a1e444f3",
   "metadata": {},
   "source": [
    "No, you cannot create an instance of an abstract class in Python. Abstract classes are meant to be incomplete, and they typically contain one or more abstract methods that do not have implementations in the abstract class itself. Abstract methods are declared using the @abstractmethod decorator and must be implemented by concrete (non-abstract) subclasses.\r\n",
    "\r\n",
    "Attempting to create an instance of an abstract class directly will result in a TypeError. This is intentional, as abstract classes are designed to be subclassed, and instances should be created from the concrete subclasses that provide implementations for the abstract methods."
   ]
  },
  {
   "cell_type": "code",
   "execution_count": 38,
   "id": "6aa99661-a9b9-4a59-9d7f-f552111c0ba3",
   "metadata": {},
   "outputs": [],
   "source": [
    "from abc import ABC, abstractmethod\n",
    "\n",
    "# Define an abstract base class (ABC)\n",
    "class Shape(ABC):\n",
    "    @abstractmethod\n",
    "    def area(self):\n",
    "        pass\n",
    "\n",
    "    @abstractmethod\n",
    "    def perimeter(self):\n",
    "        pass\n",
    "\n",
    "# Attempting to create an instance of the abstract base class results in a TypeError\n",
    "# shape = Shape()  # This line would raise a TypeError\n"
   ]
  },
  {
   "cell_type": "code",
   "execution_count": 39,
   "id": "98e12863-f964-4ec0-a2d5-290a8f20b36b",
   "metadata": {},
   "outputs": [],
   "source": [
    "class Circle(Shape):\n",
    "    def area(self):\n",
    "        # Implementing the abstract method\n",
    "        pass\n",
    "\n",
    "    def perimeter(self):\n",
    "        # Implementing the abstract method\n",
    "        pass\n",
    "\n",
    "# Creating an instance of the concrete subclass\n",
    "circle = Circle()\n"
   ]
  },
  {
   "cell_type": "code",
   "execution_count": null,
   "id": "e82bcff6-1224-4daa-a1e5-5cdb716eb392",
   "metadata": {},
   "outputs": [],
   "source": []
  }
 ],
 "metadata": {
  "kernelspec": {
   "display_name": "Python 3 (ipykernel)",
   "language": "python",
   "name": "python3"
  },
  "language_info": {
   "codemirror_mode": {
    "name": "ipython",
    "version": 3
   },
   "file_extension": ".py",
   "mimetype": "text/x-python",
   "name": "python",
   "nbconvert_exporter": "python",
   "pygments_lexer": "ipython3",
   "version": "3.11.4"
  }
 },
 "nbformat": 4,
 "nbformat_minor": 5
}
